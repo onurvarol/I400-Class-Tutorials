{
 "cells": [
  {
   "cell_type": "markdown",
   "metadata": {},
   "source": [
    "## Best resourse to learn BeautifulSoup is it's own documentation\n",
    "\n",
    "Here is the [link](https://www.crummy.com/software/BeautifulSoup/bs4/doc/)"
   ]
  },
  {
   "cell_type": "code",
   "execution_count": 1,
   "metadata": {
    "collapsed": true
   },
   "outputs": [],
   "source": [
    "from bs4 import BeautifulSoup"
   ]
  },
  {
   "cell_type": "code",
   "execution_count": 2,
   "metadata": {
    "collapsed": false
   },
   "outputs": [
    {
     "name": "stdout",
     "output_type": "stream",
     "text": [
      "<html>\n",
      " <head>\n",
      "  <title>\n",
      "   Example 1\n",
      "  </title>\n",
      " </head>\n",
      " <body>\n",
      "  <h1 class=\"title\">\n",
      "   <b>\n",
      "    TITLE h1\n",
      "   </b>\n",
      "  </h1>\n",
      "  <h2 class=\"title\">\n",
      "   <b>\n",
      "    TITLE h2\n",
      "   </b>\n",
      "  </h2>\n",
      "  <h3 class=\"title\">\n",
      "   <b>\n",
      "    TITLE h3\n",
      "   </b>\n",
      "  </h3>\n",
      "  <p>\n",
      "   Paragraph text is here. We can use\n",
      "   <span style=\"color:red;\">\n",
      "    span and some style to color text\n",
      "   </span>\n",
      "   or other text properties:\n",
      "   <u>\n",
      "    underscore\n",
      "   </u>\n",
      "   ,\n",
      "   <i>\n",
      "    italic\n",
      "   </i>\n",
      "   , or\n",
      "   <b>\n",
      "    bold\n",
      "   </b>\n",
      "   .\n",
      "  </p>\n",
      "  <p>\n",
      "   Most of the pages use\n",
      "   <a href=\"www.onurvarol.com\" target=\"_blank\">\n",
      "    hyperlinks\n",
      "   </a>\n",
      "   to give pointers to other pages.\n",
      "  </p>\n",
      "  <p>\n",
      "   You can also use images as shown below.\n",
      "  </p>\n",
      "  <img src=\"http://24.media.tumblr.com/tumblr_m2m1vwtACP1qeh2m0o1_500.jpg\" width=\"200px\">\n",
      "  </img>\n",
      " </body>\n",
      "</html>\n",
      "\n"
     ]
    }
   ],
   "source": [
    "# Read a sample html file (example1.html)\n",
    "html_doc = open('example1.html','r').read()\n",
    "\n",
    "# Parse html content using BeautifulSoup\n",
    "soup = BeautifulSoup(html_doc, 'html.parser')\n",
    "\n",
    "# Print HTML content in a pretty format\n",
    "print(soup.prettify())\n"
   ]
  },
  {
   "cell_type": "code",
   "execution_count": 6,
   "metadata": {
    "collapsed": false
   },
   "outputs": [
    {
     "name": "stdout",
     "output_type": "stream",
     "text": [
      "Site title: <title>Example 1</title>\n",
      "Title name: Example 1\n"
     ]
    }
   ],
   "source": [
    "# Here print some information about webpage\n",
    "\n",
    "print (\"Site title: %s\" % soup.title)\n",
    "\n",
    "print (\"Title name: %s\" % soup.title.string)"
   ]
  },
  {
   "cell_type": "code",
   "execution_count": 13,
   "metadata": {
    "collapsed": false
   },
   "outputs": [
    {
     "name": "stdout",
     "output_type": "stream",
     "text": [
      "<h1 class=\"title\"><b>Table 1</b></h1>\n",
      "<h1 class=\"title\"><b>Table 2</b></h1>\n",
      "<h1 class=\"title\"><b>Table 3</b></h1>\n"
     ]
    }
   ],
   "source": [
    "# Load other example file\n",
    "\n",
    "html_doc = open('example2.html','r').read()\n",
    "soup = BeautifulSoup(html_doc, 'html.parser') # Parse html content using BeautifulSoup\n",
    "\n",
    "h1tags = soup.find_all('h1')\n",
    "for h in h1tags:\n",
    "    print (h)\n",
    "\n",
    "#for h in h1tags:\n",
    "#    print (h.text)\n",
    "    "
   ]
  },
  {
   "cell_type": "code",
   "execution_count": 17,
   "metadata": {
    "collapsed": false
   },
   "outputs": [
    {
     "name": "stdout",
     "output_type": "stream",
     "text": [
      "<table border=\"1\" id=\"table1\">\n",
      "<tr>\n",
      "<td>R1-C1</td>\n",
      "<td>R1-C2</td>\n",
      "<td>R1-C3</td>\n",
      "<td>R1-C4</td>\n",
      "<td>R1-C5</td>\n",
      "</tr>\n",
      "<tr>\n",
      "<td>R2-C1</td>\n",
      "<td>R2-C2</td>\n",
      "<td>R2-C3</td>\n",
      "<td>R2-C4</td>\n",
      "<td>R2-C5</td>\n",
      "</tr>\n",
      "<tr>\n",
      "<td>R3-C1</td>\n",
      "<td>R3-C2</td>\n",
      "<td>R3-C3</td>\n",
      "<td>R3-C4</td>\n",
      "<td>R3-C5</td>\n",
      "</tr>\n",
      "</table>\n"
     ]
    }
   ],
   "source": [
    "# Let's get one of the table\n",
    "tbl1 = soup.find(id='table1')\n",
    "print (tbl1)"
   ]
  },
  {
   "cell_type": "code",
   "execution_count": 33,
   "metadata": {
    "collapsed": false
   },
   "outputs": [
    {
     "name": "stdout",
     "output_type": "stream",
     "text": [
      "0 0\n",
      "<td><a href=\"www.randomsite.com/r1c1.html\">R1-C1</a></td>\n",
      "0 1\n",
      "<td><a href=\"www.randomsite.com/r1c2.html\">R1-C2</a></td>\n",
      "0 2\n",
      "<td><a href=\"www.randomsite.com/r1c3.html\">R1-C3</a></td>\n",
      "1 0\n",
      "<td><a href=\"www.randomsite.com/r2c1.html\">R2-C1</a></td>\n",
      "1 1\n",
      "<td><a href=\"www.randomsite.com/r2c2.html\">R2-C2</a></td>\n",
      "1 2\n",
      "<td><a href=\"www.randomsite.com/r2c3.html\">R2-C3</a></td>\n",
      "2 0\n",
      "<td><a href=\"www.randomsite.com/r3c1.html\">R3-C1</a></td>\n",
      "2 1\n",
      "<td><a href=\"www.randomsite.com/r3c2.html\">R3-C2</a></td>\n",
      "2 2\n",
      "<td><a href=\"www.randomsite.com/r3c3.html\">R3-C3</a></td>\n"
     ]
    }
   ],
   "source": [
    "tbl3 = soup.find(id='table3')\n",
    "#print (tbl3)\n",
    "\n",
    "dataset = list()\n",
    "\n",
    "# Iterate through rows and columns to parse URLs\n",
    "for i,row in enumerate(tbl3.find_all('tr')):\n",
    "    rowData = list()\n",
    "    for j,column in enumerate(row.find_all('td')):\n",
    "        print (i,j)\n",
    "        print (column)\n",
    "        #print (column.text)\n",
    "        #print (column.find('a'))\n",
    "        #print (column.find('a')['href'])\n",
    "        \n",
    "        rowData.append((column.text, column.find('a')['href']))\n",
    "    dataset.append(rowData)\n",
    "    \n",
    "#print (dataset)"
   ]
  },
  {
   "cell_type": "code",
   "execution_count": null,
   "metadata": {
    "collapsed": true
   },
   "outputs": [],
   "source": []
  }
 ],
 "metadata": {
  "kernelspec": {
   "display_name": "Python 3",
   "language": "python",
   "name": "python3"
  },
  "language_info": {
   "codemirror_mode": {
    "name": "ipython",
    "version": 3
   },
   "file_extension": ".py",
   "mimetype": "text/x-python",
   "name": "python",
   "nbconvert_exporter": "python",
   "pygments_lexer": "ipython3",
   "version": "3.4.3"
  }
 },
 "nbformat": 4,
 "nbformat_minor": 0
}
